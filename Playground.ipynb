{
 "cells": [
  {
   "cell_type": "markdown",
   "source": [
    "# Python Playground 🚀🐍\n",
    "\n",
    "This notebook is a placeholder to allow anyone to play with Python via Jupyter (or a derivative service such as MyBinder.org). Please feel free to start typing in the cell below and either click the run button or `SHIFT+ENTER` to execute the code. Good luck and have fun!"
   ],
   "metadata": {}
  },
  {
   "source": [
    "print(\"Hello Python!\")"
   ],
   "cell_type": "code",
   "outputs": [
    {
     "output_type": "stream",
     "name": "stdout",
     "text": "Hello Python!\n"
    }
   ],
   "metadata": {},
   "execution_count": 1
  },
  {
   "cell_type": "code",
   "execution_count": null,
   "metadata": {},
   "outputs": [],
   "source": []
  }
 ],
 "metadata": {},
 "nbformat": 4,
 "nbformat_minor": 2
}